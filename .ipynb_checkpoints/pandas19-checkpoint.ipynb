{
 "cells": [
  {
   "cell_type": "code",
   "execution_count": 1,
   "metadata": {},
   "outputs": [
    {
     "name": "stdout",
     "output_type": "stream",
     "text": [
      "1.1.3\n",
      "1.19.2\n"
     ]
    }
   ],
   "source": [
    "# import modules\n",
    "import pandas as pd\n",
    "import numpy as np\n",
    "\n",
    "print(pd.__version__)\n",
    "print(np.__version__)"
   ]
  },
  {
   "cell_type": "code",
   "execution_count": 2,
   "metadata": {},
   "outputs": [
    {
     "data": {
      "text/html": [
       "<div>\n",
       "<style scoped>\n",
       "    .dataframe tbody tr th:only-of-type {\n",
       "        vertical-align: middle;\n",
       "    }\n",
       "\n",
       "    .dataframe tbody tr th {\n",
       "        vertical-align: top;\n",
       "    }\n",
       "\n",
       "    .dataframe thead th {\n",
       "        text-align: right;\n",
       "    }\n",
       "</style>\n",
       "<table border=\"1\" class=\"dataframe\">\n",
       "  <thead>\n",
       "    <tr style=\"text-align: right;\">\n",
       "      <th></th>\n",
       "      <th>omset</th>\n",
       "      <th>operasional</th>\n",
       "    </tr>\n",
       "  </thead>\n",
       "  <tbody>\n",
       "    <tr>\n",
       "      <th>0</th>\n",
       "      <td>12</td>\n",
       "      <td>17</td>\n",
       "    </tr>\n",
       "    <tr>\n",
       "      <th>1</th>\n",
       "      <td>8</td>\n",
       "      <td>9</td>\n",
       "    </tr>\n",
       "    <tr>\n",
       "      <th>2</th>\n",
       "      <td>4</td>\n",
       "      <td>16</td>\n",
       "    </tr>\n",
       "    <tr>\n",
       "      <th>3</th>\n",
       "      <td>8</td>\n",
       "      <td>5</td>\n",
       "    </tr>\n",
       "    <tr>\n",
       "      <th>4</th>\n",
       "      <td>7</td>\n",
       "      <td>2</td>\n",
       "    </tr>\n",
       "  </tbody>\n",
       "</table>\n",
       "</div>"
      ],
      "text/plain": [
       "   omset  operasional\n",
       "0     12           17\n",
       "1      8            9\n",
       "2      4           16\n",
       "3      8            5\n",
       "4      7            2"
      ]
     },
     "execution_count": 2,
     "metadata": {},
     "output_type": "execute_result"
    }
   ],
   "source": [
    "# persiapan data frame\n",
    "n_rows = 5\n",
    "n_cols = 2\n",
    "cols = ('omset', 'operasional')\n",
    "\n",
    "df = pd.DataFrame(np.random.randint(1, 20, size=(n_rows, n_cols)),\n",
    "                  columns = cols)\n",
    "df"
   ]
  },
  {
   "cell_type": "code",
   "execution_count": 3,
   "metadata": {},
   "outputs": [
    {
     "data": {
      "text/html": [
       "<div>\n",
       "<style scoped>\n",
       "    .dataframe tbody tr th:only-of-type {\n",
       "        vertical-align: middle;\n",
       "    }\n",
       "\n",
       "    .dataframe tbody tr th {\n",
       "        vertical-align: top;\n",
       "    }\n",
       "\n",
       "    .dataframe thead th {\n",
       "        text-align: right;\n",
       "    }\n",
       "</style>\n",
       "<table border=\"1\" class=\"dataframe\">\n",
       "  <thead>\n",
       "    <tr style=\"text-align: right;\">\n",
       "      <th></th>\n",
       "      <th>omset</th>\n",
       "      <th>operasional</th>\n",
       "    </tr>\n",
       "  </thead>\n",
       "  <tbody>\n",
       "    <tr>\n",
       "      <th>0</th>\n",
       "      <td>1200000</td>\n",
       "      <td>170000</td>\n",
       "    </tr>\n",
       "    <tr>\n",
       "      <th>1</th>\n",
       "      <td>800000</td>\n",
       "      <td>90000</td>\n",
       "    </tr>\n",
       "    <tr>\n",
       "      <th>2</th>\n",
       "      <td>400000</td>\n",
       "      <td>160000</td>\n",
       "    </tr>\n",
       "    <tr>\n",
       "      <th>3</th>\n",
       "      <td>800000</td>\n",
       "      <td>50000</td>\n",
       "    </tr>\n",
       "    <tr>\n",
       "      <th>4</th>\n",
       "      <td>700000</td>\n",
       "      <td>20000</td>\n",
       "    </tr>\n",
       "  </tbody>\n",
       "</table>\n",
       "</div>"
      ],
      "text/plain": [
       "     omset  operasional\n",
       "0  1200000       170000\n",
       "1   800000        90000\n",
       "2   400000       160000\n",
       "3   800000        50000\n",
       "4   700000        20000"
      ]
     },
     "execution_count": 3,
     "metadata": {},
     "output_type": "execute_result"
    }
   ],
   "source": [
    "df['omset'] = df['omset']*100_000\n",
    "df['operasional'] = df['operasional']*10_000\n",
    "df"
   ]
  },
  {
   "cell_type": "code",
   "execution_count": 4,
   "metadata": {},
   "outputs": [
    {
     "name": "stderr",
     "output_type": "stream",
     "text": [
      "C:\\Users\\ASUS\\anaconda3\\lib\\site-packages\\pandas\\util\\__init__.py:12: FutureWarning: pandas.util.testing is deprecated. Use the functions in the public API at pandas.testing instead.\n",
      "  import pandas.util.testing\n"
     ]
    },
    {
     "data": {
      "text/html": [
       "<div>\n",
       "<style scoped>\n",
       "    .dataframe tbody tr th:only-of-type {\n",
       "        vertical-align: middle;\n",
       "    }\n",
       "\n",
       "    .dataframe tbody tr th {\n",
       "        vertical-align: top;\n",
       "    }\n",
       "\n",
       "    .dataframe thead th {\n",
       "        text-align: right;\n",
       "    }\n",
       "</style>\n",
       "<table border=\"1\" class=\"dataframe\">\n",
       "  <thead>\n",
       "    <tr style=\"text-align: right;\">\n",
       "      <th></th>\n",
       "      <th>tanggal</th>\n",
       "      <th>omset</th>\n",
       "      <th>operasional</th>\n",
       "    </tr>\n",
       "  </thead>\n",
       "  <tbody>\n",
       "    <tr>\n",
       "      <th>0</th>\n",
       "      <td>2000-01-01</td>\n",
       "      <td>1200000</td>\n",
       "      <td>170000</td>\n",
       "    </tr>\n",
       "    <tr>\n",
       "      <th>1</th>\n",
       "      <td>2000-01-02</td>\n",
       "      <td>800000</td>\n",
       "      <td>90000</td>\n",
       "    </tr>\n",
       "    <tr>\n",
       "      <th>2</th>\n",
       "      <td>2000-01-03</td>\n",
       "      <td>400000</td>\n",
       "      <td>160000</td>\n",
       "    </tr>\n",
       "    <tr>\n",
       "      <th>3</th>\n",
       "      <td>2000-01-04</td>\n",
       "      <td>800000</td>\n",
       "      <td>50000</td>\n",
       "    </tr>\n",
       "    <tr>\n",
       "      <th>4</th>\n",
       "      <td>2000-01-05</td>\n",
       "      <td>700000</td>\n",
       "      <td>20000</td>\n",
       "    </tr>\n",
       "  </tbody>\n",
       "</table>\n",
       "</div>"
      ],
      "text/plain": [
       "     tanggal    omset  operasional\n",
       "0 2000-01-01  1200000       170000\n",
       "1 2000-01-02   800000        90000\n",
       "2 2000-01-03   400000       160000\n",
       "3 2000-01-04   800000        50000\n",
       "4 2000-01-05   700000        20000"
      ]
     },
     "execution_count": 4,
     "metadata": {},
     "output_type": "execute_result"
    }
   ],
   "source": [
    "df.index = pd.util.testing.makeDateIndex(n_rows, freq='D')\n",
    "df = df.reset_index()\n",
    "df = df.rename(columns={'index' : 'tanggal'})\n",
    "df"
   ]
  },
  {
   "cell_type": "code",
   "execution_count": 5,
   "metadata": {},
   "outputs": [
    {
     "data": {
      "text/html": [
       "<style  type=\"text/css\" >\n",
       "</style><table id=\"T_652307ce_2d05_11ec_982b_ed4053ce4911\" ><thead>    <tr>        <th class=\"blank level0\" ></th>        <th class=\"col_heading level0 col0\" >tanggal</th>        <th class=\"col_heading level0 col1\" >omset</th>        <th class=\"col_heading level0 col2\" >operasional</th>    </tr></thead><tbody>\n",
       "                <tr>\n",
       "                        <th id=\"T_652307ce_2d05_11ec_982b_ed4053ce4911level0_row0\" class=\"row_heading level0 row0\" >0</th>\n",
       "                        <td id=\"T_652307ce_2d05_11ec_982b_ed4053ce4911row0_col0\" class=\"data row0 col0\" >01/01/00</td>\n",
       "                        <td id=\"T_652307ce_2d05_11ec_982b_ed4053ce4911row0_col1\" class=\"data row0 col1\" >Rp 1200000.00</td>\n",
       "                        <td id=\"T_652307ce_2d05_11ec_982b_ed4053ce4911row0_col2\" class=\"data row0 col2\" >Rp 170000.00</td>\n",
       "            </tr>\n",
       "            <tr>\n",
       "                        <th id=\"T_652307ce_2d05_11ec_982b_ed4053ce4911level0_row1\" class=\"row_heading level0 row1\" >1</th>\n",
       "                        <td id=\"T_652307ce_2d05_11ec_982b_ed4053ce4911row1_col0\" class=\"data row1 col0\" >02/01/00</td>\n",
       "                        <td id=\"T_652307ce_2d05_11ec_982b_ed4053ce4911row1_col1\" class=\"data row1 col1\" >Rp 800000.00</td>\n",
       "                        <td id=\"T_652307ce_2d05_11ec_982b_ed4053ce4911row1_col2\" class=\"data row1 col2\" >Rp 90000.00</td>\n",
       "            </tr>\n",
       "            <tr>\n",
       "                        <th id=\"T_652307ce_2d05_11ec_982b_ed4053ce4911level0_row2\" class=\"row_heading level0 row2\" >2</th>\n",
       "                        <td id=\"T_652307ce_2d05_11ec_982b_ed4053ce4911row2_col0\" class=\"data row2 col0\" >03/01/00</td>\n",
       "                        <td id=\"T_652307ce_2d05_11ec_982b_ed4053ce4911row2_col1\" class=\"data row2 col1\" >Rp 400000.00</td>\n",
       "                        <td id=\"T_652307ce_2d05_11ec_982b_ed4053ce4911row2_col2\" class=\"data row2 col2\" >Rp 160000.00</td>\n",
       "            </tr>\n",
       "            <tr>\n",
       "                        <th id=\"T_652307ce_2d05_11ec_982b_ed4053ce4911level0_row3\" class=\"row_heading level0 row3\" >3</th>\n",
       "                        <td id=\"T_652307ce_2d05_11ec_982b_ed4053ce4911row3_col0\" class=\"data row3 col0\" >04/01/00</td>\n",
       "                        <td id=\"T_652307ce_2d05_11ec_982b_ed4053ce4911row3_col1\" class=\"data row3 col1\" >Rp 800000.00</td>\n",
       "                        <td id=\"T_652307ce_2d05_11ec_982b_ed4053ce4911row3_col2\" class=\"data row3 col2\" >Rp 50000.00</td>\n",
       "            </tr>\n",
       "            <tr>\n",
       "                        <th id=\"T_652307ce_2d05_11ec_982b_ed4053ce4911level0_row4\" class=\"row_heading level0 row4\" >4</th>\n",
       "                        <td id=\"T_652307ce_2d05_11ec_982b_ed4053ce4911row4_col0\" class=\"data row4 col0\" >05/01/00</td>\n",
       "                        <td id=\"T_652307ce_2d05_11ec_982b_ed4053ce4911row4_col1\" class=\"data row4 col1\" >Rp 700000.00</td>\n",
       "                        <td id=\"T_652307ce_2d05_11ec_982b_ed4053ce4911row4_col2\" class=\"data row4 col2\" >Rp 20000.00</td>\n",
       "            </tr>\n",
       "    </tbody></table>"
      ],
      "text/plain": [
       "<pandas.io.formats.style.Styler at 0x1df24b13bb0>"
      ]
     },
     "execution_count": 5,
     "metadata": {},
     "output_type": "execute_result"
    }
   ],
   "source": [
    "# melakukan formatting tampilan data frame\n",
    "formatku = {'tanggal':'{:%d/%m/%y}',\n",
    "            'operasional':'Rp {:.2f}',\n",
    "            'omset':'Rp {:.2f}'}\n",
    "\n",
    "laporan = df.style.format(formatku)\n",
    "laporan"
   ]
  },
  {
   "cell_type": "code",
   "execution_count": 6,
   "metadata": {},
   "outputs": [
    {
     "data": {
      "text/plain": [
       "pandas.io.formats.style.Styler"
      ]
     },
     "execution_count": 6,
     "metadata": {},
     "output_type": "execute_result"
    }
   ],
   "source": [
    "type(laporan)"
   ]
  },
  {
   "cell_type": "code",
   "execution_count": 7,
   "metadata": {},
   "outputs": [
    {
     "data": {
      "text/html": [
       "<style  type=\"text/css\" >\n",
       "</style><table id=\"T_7344bf4e_2d05_11ec_9397_ed4053ce4911\" ><thead>    <tr>        <th class=\"col_heading level0 col0\" >tanggal</th>        <th class=\"col_heading level0 col1\" >omset</th>        <th class=\"col_heading level0 col2\" >operasional</th>    </tr></thead><tbody>\n",
       "                <tr>\n",
       "                                <td id=\"T_7344bf4e_2d05_11ec_9397_ed4053ce4911row0_col0\" class=\"data row0 col0\" >01/01/00</td>\n",
       "                        <td id=\"T_7344bf4e_2d05_11ec_9397_ed4053ce4911row0_col1\" class=\"data row0 col1\" >Rp 1200000.00</td>\n",
       "                        <td id=\"T_7344bf4e_2d05_11ec_9397_ed4053ce4911row0_col2\" class=\"data row0 col2\" >Rp 170000.00</td>\n",
       "            </tr>\n",
       "            <tr>\n",
       "                                <td id=\"T_7344bf4e_2d05_11ec_9397_ed4053ce4911row1_col0\" class=\"data row1 col0\" >02/01/00</td>\n",
       "                        <td id=\"T_7344bf4e_2d05_11ec_9397_ed4053ce4911row1_col1\" class=\"data row1 col1\" >Rp 800000.00</td>\n",
       "                        <td id=\"T_7344bf4e_2d05_11ec_9397_ed4053ce4911row1_col2\" class=\"data row1 col2\" >Rp 90000.00</td>\n",
       "            </tr>\n",
       "            <tr>\n",
       "                                <td id=\"T_7344bf4e_2d05_11ec_9397_ed4053ce4911row2_col0\" class=\"data row2 col0\" >03/01/00</td>\n",
       "                        <td id=\"T_7344bf4e_2d05_11ec_9397_ed4053ce4911row2_col1\" class=\"data row2 col1\" >Rp 400000.00</td>\n",
       "                        <td id=\"T_7344bf4e_2d05_11ec_9397_ed4053ce4911row2_col2\" class=\"data row2 col2\" >Rp 160000.00</td>\n",
       "            </tr>\n",
       "            <tr>\n",
       "                                <td id=\"T_7344bf4e_2d05_11ec_9397_ed4053ce4911row3_col0\" class=\"data row3 col0\" >04/01/00</td>\n",
       "                        <td id=\"T_7344bf4e_2d05_11ec_9397_ed4053ce4911row3_col1\" class=\"data row3 col1\" >Rp 800000.00</td>\n",
       "                        <td id=\"T_7344bf4e_2d05_11ec_9397_ed4053ce4911row3_col2\" class=\"data row3 col2\" >Rp 50000.00</td>\n",
       "            </tr>\n",
       "            <tr>\n",
       "                                <td id=\"T_7344bf4e_2d05_11ec_9397_ed4053ce4911row4_col0\" class=\"data row4 col0\" >05/01/00</td>\n",
       "                        <td id=\"T_7344bf4e_2d05_11ec_9397_ed4053ce4911row4_col1\" class=\"data row4 col1\" >Rp 700000.00</td>\n",
       "                        <td id=\"T_7344bf4e_2d05_11ec_9397_ed4053ce4911row4_col2\" class=\"data row4 col2\" >Rp 20000.00</td>\n",
       "            </tr>\n",
       "    </tbody></table>"
      ],
      "text/plain": [
       "<pandas.io.formats.style.Styler at 0x1df24b13bb0>"
      ]
     },
     "execution_count": 7,
     "metadata": {},
     "output_type": "execute_result"
    }
   ],
   "source": [
    "laporan.hide_index()"
   ]
  },
  {
   "cell_type": "code",
   "execution_count": 8,
   "metadata": {},
   "outputs": [
    {
     "data": {
      "text/html": [
       "<style  type=\"text/css\" >\n",
       "</style><table id=\"T_7b342eb9_2d05_11ec_910c_ed4053ce4911\" ><caption>Data Omset dan Operasional</caption><thead>    <tr>        <th class=\"col_heading level0 col0\" >tanggal</th>        <th class=\"col_heading level0 col1\" >omset</th>        <th class=\"col_heading level0 col2\" >operasional</th>    </tr></thead><tbody>\n",
       "                <tr>\n",
       "                                <td id=\"T_7b342eb9_2d05_11ec_910c_ed4053ce4911row0_col0\" class=\"data row0 col0\" >01/01/00</td>\n",
       "                        <td id=\"T_7b342eb9_2d05_11ec_910c_ed4053ce4911row0_col1\" class=\"data row0 col1\" >Rp 1200000.00</td>\n",
       "                        <td id=\"T_7b342eb9_2d05_11ec_910c_ed4053ce4911row0_col2\" class=\"data row0 col2\" >Rp 170000.00</td>\n",
       "            </tr>\n",
       "            <tr>\n",
       "                                <td id=\"T_7b342eb9_2d05_11ec_910c_ed4053ce4911row1_col0\" class=\"data row1 col0\" >02/01/00</td>\n",
       "                        <td id=\"T_7b342eb9_2d05_11ec_910c_ed4053ce4911row1_col1\" class=\"data row1 col1\" >Rp 800000.00</td>\n",
       "                        <td id=\"T_7b342eb9_2d05_11ec_910c_ed4053ce4911row1_col2\" class=\"data row1 col2\" >Rp 90000.00</td>\n",
       "            </tr>\n",
       "            <tr>\n",
       "                                <td id=\"T_7b342eb9_2d05_11ec_910c_ed4053ce4911row2_col0\" class=\"data row2 col0\" >03/01/00</td>\n",
       "                        <td id=\"T_7b342eb9_2d05_11ec_910c_ed4053ce4911row2_col1\" class=\"data row2 col1\" >Rp 400000.00</td>\n",
       "                        <td id=\"T_7b342eb9_2d05_11ec_910c_ed4053ce4911row2_col2\" class=\"data row2 col2\" >Rp 160000.00</td>\n",
       "            </tr>\n",
       "            <tr>\n",
       "                                <td id=\"T_7b342eb9_2d05_11ec_910c_ed4053ce4911row3_col0\" class=\"data row3 col0\" >04/01/00</td>\n",
       "                        <td id=\"T_7b342eb9_2d05_11ec_910c_ed4053ce4911row3_col1\" class=\"data row3 col1\" >Rp 800000.00</td>\n",
       "                        <td id=\"T_7b342eb9_2d05_11ec_910c_ed4053ce4911row3_col2\" class=\"data row3 col2\" >Rp 50000.00</td>\n",
       "            </tr>\n",
       "            <tr>\n",
       "                                <td id=\"T_7b342eb9_2d05_11ec_910c_ed4053ce4911row4_col0\" class=\"data row4 col0\" >05/01/00</td>\n",
       "                        <td id=\"T_7b342eb9_2d05_11ec_910c_ed4053ce4911row4_col1\" class=\"data row4 col1\" >Rp 700000.00</td>\n",
       "                        <td id=\"T_7b342eb9_2d05_11ec_910c_ed4053ce4911row4_col2\" class=\"data row4 col2\" >Rp 20000.00</td>\n",
       "            </tr>\n",
       "    </tbody></table>"
      ],
      "text/plain": [
       "<pandas.io.formats.style.Styler at 0x1df24b13bb0>"
      ]
     },
     "execution_count": 8,
     "metadata": {},
     "output_type": "execute_result"
    }
   ],
   "source": [
    "laporan.set_caption('Data Omset dan Operasional')"
   ]
  },
  {
   "cell_type": "code",
   "execution_count": 9,
   "metadata": {},
   "outputs": [
    {
     "data": {
      "text/html": [
       "<style  type=\"text/css\" >\n",
       "#T_80efce13_2d05_11ec_a2e4_ed4053ce4911row0_col1{\n",
       "            background-color:  lightgreen;\n",
       "        }#T_80efce13_2d05_11ec_a2e4_ed4053ce4911row0_col2{\n",
       "            background-color:  grey;\n",
       "        }#T_80efce13_2d05_11ec_a2e4_ed4053ce4911row2_col1{\n",
       "            background-color:  pink;\n",
       "        }#T_80efce13_2d05_11ec_a2e4_ed4053ce4911row4_col2{\n",
       "            background-color:  lightblue;\n",
       "        }</style><table id=\"T_80efce13_2d05_11ec_a2e4_ed4053ce4911\" ><caption>Data Omset dan Operasional</caption><thead>    <tr>        <th class=\"col_heading level0 col0\" >tanggal</th>        <th class=\"col_heading level0 col1\" >omset</th>        <th class=\"col_heading level0 col2\" >operasional</th>    </tr></thead><tbody>\n",
       "                <tr>\n",
       "                                <td id=\"T_80efce13_2d05_11ec_a2e4_ed4053ce4911row0_col0\" class=\"data row0 col0\" >01/01/00</td>\n",
       "                        <td id=\"T_80efce13_2d05_11ec_a2e4_ed4053ce4911row0_col1\" class=\"data row0 col1\" >Rp 1200000.00</td>\n",
       "                        <td id=\"T_80efce13_2d05_11ec_a2e4_ed4053ce4911row0_col2\" class=\"data row0 col2\" >Rp 170000.00</td>\n",
       "            </tr>\n",
       "            <tr>\n",
       "                                <td id=\"T_80efce13_2d05_11ec_a2e4_ed4053ce4911row1_col0\" class=\"data row1 col0\" >02/01/00</td>\n",
       "                        <td id=\"T_80efce13_2d05_11ec_a2e4_ed4053ce4911row1_col1\" class=\"data row1 col1\" >Rp 800000.00</td>\n",
       "                        <td id=\"T_80efce13_2d05_11ec_a2e4_ed4053ce4911row1_col2\" class=\"data row1 col2\" >Rp 90000.00</td>\n",
       "            </tr>\n",
       "            <tr>\n",
       "                                <td id=\"T_80efce13_2d05_11ec_a2e4_ed4053ce4911row2_col0\" class=\"data row2 col0\" >03/01/00</td>\n",
       "                        <td id=\"T_80efce13_2d05_11ec_a2e4_ed4053ce4911row2_col1\" class=\"data row2 col1\" >Rp 400000.00</td>\n",
       "                        <td id=\"T_80efce13_2d05_11ec_a2e4_ed4053ce4911row2_col2\" class=\"data row2 col2\" >Rp 160000.00</td>\n",
       "            </tr>\n",
       "            <tr>\n",
       "                                <td id=\"T_80efce13_2d05_11ec_a2e4_ed4053ce4911row3_col0\" class=\"data row3 col0\" >04/01/00</td>\n",
       "                        <td id=\"T_80efce13_2d05_11ec_a2e4_ed4053ce4911row3_col1\" class=\"data row3 col1\" >Rp 800000.00</td>\n",
       "                        <td id=\"T_80efce13_2d05_11ec_a2e4_ed4053ce4911row3_col2\" class=\"data row3 col2\" >Rp 50000.00</td>\n",
       "            </tr>\n",
       "            <tr>\n",
       "                                <td id=\"T_80efce13_2d05_11ec_a2e4_ed4053ce4911row4_col0\" class=\"data row4 col0\" >05/01/00</td>\n",
       "                        <td id=\"T_80efce13_2d05_11ec_a2e4_ed4053ce4911row4_col1\" class=\"data row4 col1\" >Rp 700000.00</td>\n",
       "                        <td id=\"T_80efce13_2d05_11ec_a2e4_ed4053ce4911row4_col2\" class=\"data row4 col2\" >Rp 20000.00</td>\n",
       "            </tr>\n",
       "    </tbody></table>"
      ],
      "text/plain": [
       "<pandas.io.formats.style.Styler at 0x1df24b13bb0>"
      ]
     },
     "execution_count": 9,
     "metadata": {},
     "output_type": "execute_result"
    }
   ],
   "source": [
    "laporan.highlight_min('omset', color='pink')\n",
    "laporan.highlight_max('omset', color='lightgreen')\n",
    "\n",
    "laporan.highlight_min('operasional', color='lightblue')\n",
    "laporan.highlight_max('operasional', color='grey')"
   ]
  }
 ],
 "metadata": {
  "kernelspec": {
   "display_name": "Python 3",
   "language": "python",
   "name": "python3"
  },
  "language_info": {
   "codemirror_mode": {
    "name": "ipython",
    "version": 3
   },
   "file_extension": ".py",
   "mimetype": "text/x-python",
   "name": "python",
   "nbconvert_exporter": "python",
   "pygments_lexer": "ipython3",
   "version": "3.8.5"
  }
 },
 "nbformat": 4,
 "nbformat_minor": 4
}
